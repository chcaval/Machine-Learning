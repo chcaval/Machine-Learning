{
 "cells": [
  {
   "cell_type": "markdown",
   "metadata": {},
   "source": [
    "<img src=\"https://www.analyticsvidhya.com/wp-content/themes/Curated/custom-design/images/logo.png\" width=240 height= 240 align=\"right\"/>\n",
    "\n",
    "# Text Classification Project \n",
    "## Travail Pratique - TP1 Machine learning Apprentissage Supervisé\n",
    "### Étudiant: Carlos Cavalcante\n",
    "### Prof: Hafed Benteftifa\n",
    "“Text Classification” is one of the most important NLP tasks. It is the process of classifying text strings or documents into different categories, based upon the contents of the strings. Some examples of text classification are:\n",
    "\n",
    "* Understanding audience sentiment from social media,\n",
    "* Detection of spam and non-spam emails,\n",
    "* Auto tagging of customer queries, and\n",
    "* Classifying blog posts into different categories.\n",
    "\n",
    "In this notebook, we will work on a text classification problem, end-to-end. For this analysis, we’ll be using the __http://mlg.ucd.ie/datasets/bbc.html  (BBCSport Fulltext)__ compiled by BBC Broadcast.\n",
    "\n",
    "*Note: Python version = 3.6*\n",
    "\n",
    "### Table of Contents\n",
    "\n",
    "1. Understand the Problem Statement\n",
    "2. Read Dataset\n",
    "3. Clean and Pre-Process Text\n",
    "4. Split Data\n",
    "4. Extracting Features from Cleaned Text\n",
    "5. Model Building\n",
    "\n",
    "<br>"
   ]
  },
  {
   "cell_type": "markdown",
   "metadata": {},
   "source": [
    "### Understand the Problem Statement\n",
    "\n",
    "\n",
    "The bbcsports is a collection of 5 very popular and known sports in Britain: Football (as Soccer), Cricket, Tennis, Athletics and Rugby.\n",
    "\n",
    "In this project, our task is to develop a model able to classify a new article (Generalize) into one of these topics citing above. "
   ]
  },
  {
   "cell_type": "markdown",
   "metadata": {},
   "source": [
    "### Read Dataset\n",
    "\n",
    "Let's import the necessary libraries."
   ]
  },
  {
   "cell_type": "code",
   "execution_count": 25,
   "metadata": {},
   "outputs": [],
   "source": [
    "import numpy as np\n",
    "import pandas as pd\n",
    "import nltk\n",
    "import spacy\n",
    "from tqdm import tqdm\n",
    "import os\n",
    "import re\n",
    "import seaborn as sns\n",
    "import matplotlib.pyplot as plt\n",
    "\n",
    "%matplotlib inline"
   ]
  },
  {
   "cell_type": "markdown",
   "metadata": {},
   "source": [
    "There are five folders named: \"atlhetics\", \"cricket\", \"football\", \"tennis\" and \"rugby\" containing text. We will have to first read and load the contents of these text files to move ahead with our analysis."
   ]
  },
  {
   "cell_type": "code",
   "execution_count": 26,
   "metadata": {},
   "outputs": [],
   "source": [
    "# load file names\n",
    "athletics_files = os.listdir(\"athletics/\")\n",
    "cricket_files = os.listdir(\"cricket/\")\n",
    "football_files = os.listdir(\"football/\")\n",
    "rugby_files = os.listdir(\"rugby/\")\n",
    "tennis_files = os.listdir(\"tennis/\")"
   ]
  },
  {
   "cell_type": "code",
   "execution_count": 27,
   "metadata": {},
   "outputs": [
    {
     "name": "stdout",
     "output_type": "stream",
     "text": [
      "['060.txt', '074.txt', '048.txt', '100.txt', '101.txt', '049.txt', '075.txt', '061.txt', '088.txt', '077.txt']\n",
      "------------------------------------------------------------------------------------------\n",
      "['060.txt', '074.txt', '048.txt', '114.txt', '100.txt', '101.txt', '115.txt', '049.txt', '075.txt', '061.txt']\n",
      "------------------------------------------------------------------------------------------\n",
      "['262.txt', '060.txt', '074.txt', '048.txt', '114.txt', '100.txt', '128.txt', '129.txt', '101.txt', '115.txt']\n",
      "------------------------------------------------------------------------------------------\n",
      "['060.txt', '074.txt', '048.txt', '114.txt', '100.txt', '128.txt', '129.txt', '101.txt', '115.txt', '049.txt']\n",
      "------------------------------------------------------------------------------------------\n",
      "['060.txt', '074.txt', '048.txt', '100.txt', '049.txt', '075.txt', '061.txt', '088.txt', '077.txt', '063.txt']\n"
     ]
    }
   ],
   "source": [
    "print(athletics_files[:10])\n",
    "print('--'*45)\n",
    "print(cricket_files[:10])\n",
    "print('--'*45)\n",
    "print(football_files[:10])\n",
    "print('--'*45)\n",
    "print(rugby_files[:10])\n",
    "print('--'*45)\n",
    "print(tennis_files[:10])"
   ]
  },
  {
   "cell_type": "markdown",
   "metadata": {},
   "source": [
    "...................................................................................................................\n",
    "\n",
    "Let's see how many info for athletics, cricket, football, rugby and tennis are there."
   ]
  },
  {
   "cell_type": "code",
   "execution_count": 28,
   "metadata": {},
   "outputs": [
    {
     "data": {
      "text/plain": [
       "(102, 124, 265, 147, 100)"
      ]
     },
     "execution_count": 28,
     "metadata": {},
     "output_type": "execute_result"
    }
   ],
   "source": [
    "len(athletics_files), len(cricket_files), len(football_files), len(rugby_files), len(tennis_files)"
   ]
  },
  {
   "cell_type": "markdown",
   "metadata": {},
   "source": [
    "Till now we have just gathered the names of files that we have to read. To read them, let's define a function."
   ]
  },
  {
   "cell_type": "code",
   "execution_count": 29,
   "metadata": {},
   "outputs": [],
   "source": [
    "# function to read text files\n",
    "def read_classify(filename):\n",
    "    # open the file as read only\n",
    "    file = open(filename, mode='rt', encoding='cp1252')\n",
    "    # read all text\n",
    "    text = file.read()\n",
    "    # close the file\n",
    "    file.close()\n",
    "    return text"
   ]
  },
  {
   "cell_type": "code",
   "execution_count": 30,
   "metadata": {},
   "outputs": [],
   "source": [
    "# read and store athletics words in a list\n",
    "athletics = []\n",
    "\n",
    "for i in athletics_files:\n",
    "    athletics.append(read_classify(\"athletics/\"+i))\n",
    "    \n",
    "# read and store cricket words in a list\n",
    "cricket = []\n",
    "\n",
    "for i in cricket_files:\n",
    "    cricket.append(read_classify(\"cricket/\"+i))\n",
    "    \n",
    "# read and store football words in a list\n",
    "football = []\n",
    "\n",
    "for i in football_files:\n",
    "    football.append(read_classify(\"football/\"+i))\n",
    "    \n",
    "# read and store rugby words in a list\n",
    "rugby = []\n",
    "\n",
    "for i in rugby_files:\n",
    "    rugby.append(read_classify(\"rugby/\"+i))\n",
    "    \n",
    "# read and store tennis words in a list\n",
    "tennis = []\n",
    "\n",
    "for i in tennis_files:\n",
    "    tennis.append(read_classify(\"tennis/\"+i))"
   ]
  },
  {
   "cell_type": "markdown",
   "metadata": {},
   "source": [
    "We will now put all of them in a dataframe and will also assign from 0 to 4 their classification."
   ]
  },
  {
   "cell_type": "code",
   "execution_count": 31,
   "metadata": {},
   "outputs": [
    {
     "data": {
      "text/plain": [
       "(102, 124, 265, 147, 100)"
      ]
     },
     "execution_count": 31,
     "metadata": {},
     "output_type": "execute_result"
    }
   ],
   "source": [
    "len(athletics_files), len(cricket_files), len(football_files), len(rugby_files), len(tennis_files)"
   ]
  },
  {
   "cell_type": "code",
   "execution_count": 32,
   "metadata": {},
   "outputs": [
    {
     "name": "stderr",
     "output_type": "stream",
     "text": [
      "/anaconda3/lib/python3.7/site-packages/ipykernel_launcher.py:5: SettingWithCopyWarning: \n",
      "A value is trying to be set on a copy of a slice from a DataFrame\n",
      "\n",
      "See the caveats in the documentation: http://pandas.pydata.org/pandas-docs/stable/indexing.html#indexing-view-versus-copy\n",
      "  \"\"\"\n",
      "/anaconda3/lib/python3.7/site-packages/ipykernel_launcher.py:6: SettingWithCopyWarning: \n",
      "A value is trying to be set on a copy of a slice from a DataFrame\n",
      "\n",
      "See the caveats in the documentation: http://pandas.pydata.org/pandas-docs/stable/indexing.html#indexing-view-versus-copy\n",
      "  \n",
      "/anaconda3/lib/python3.7/site-packages/ipykernel_launcher.py:7: SettingWithCopyWarning: \n",
      "A value is trying to be set on a copy of a slice from a DataFrame\n",
      "\n",
      "See the caveats in the documentation: http://pandas.pydata.org/pandas-docs/stable/indexing.html#indexing-view-versus-copy\n",
      "  import sys\n",
      "/anaconda3/lib/python3.7/site-packages/ipykernel_launcher.py:8: SettingWithCopyWarning: \n",
      "A value is trying to be set on a copy of a slice from a DataFrame\n",
      "\n",
      "See the caveats in the documentation: http://pandas.pydata.org/pandas-docs/stable/indexing.html#indexing-view-versus-copy\n",
      "  \n"
     ]
    }
   ],
   "source": [
    "import sys\n",
    "df = pd.DataFrame({'classify':(athletics+cricket+football+rugby+tennis)})\n",
    "\n",
    "df['class'] = 0 # 0 for Athletics\n",
    "df['class'][101:225] = 1 # 1 for cricket\n",
    "df['class'][225:490] = 2 # 2 for football\n",
    "df['class'][490:637] = 3 # 3 for rugby\n",
    "df['class'][637:] = 4 # 4 for tennis"
   ]
  },
  {
   "cell_type": "code",
   "execution_count": 33,
   "metadata": {},
   "outputs": [
    {
     "data": {
      "text/plain": [
       "2    265\n",
       "3    147\n",
       "1    124\n",
       "4    101\n",
       "0    101\n",
       "Name: class, dtype: int64"
      ]
     },
     "execution_count": 33,
     "metadata": {},
     "output_type": "execute_result"
    }
   ],
   "source": [
    "# check class distribution\n",
    "df['class'].value_counts()"
   ]
  },
  {
   "cell_type": "markdown",
   "metadata": {},
   "source": [
    "<br>\n",
    "\n",
    "### Clean and Pre-Process Text"
   ]
  },
  {
   "cell_type": "markdown",
   "metadata": {},
   "source": [
    "Cleaning and pre-processing of raw text data is an important step in an NLP task. We try to remove as much noise as possible from the data. Punctuation marks, special characters(#@&<!), and words like 'the', 'a', 'of', 'oh' are of not much use in tasks like text classification, and that is why they are considered as noise. So, before getting started, let's print out a random classify.  "
   ]
  },
  {
   "cell_type": "code",
   "execution_count": 34,
   "metadata": {},
   "outputs": [
    {
     "data": {
      "text/plain": [
       "'Event devised to nurture athletes\\n\\nUK Athletics has launched a new outdoor series aimed at creating extra competitive events for athletes just below Great Britain standard.\\n\\nThe UK Challenge will consist of 10 high standard meetings from May until the series final on 3 September. Athletes must compete in at least three events to gain a series ranking with the top eight athletes in each discipline contesting the final. The scheme also coincides with plans to introduce a new UK ranking system. A list of the top 100 athletes in each event will be compiled and updated every two weeks throughout the outdoor season. UK Athletics chief executive David Moorcroft said he hoped the initiatives would stimulate the sport at all levels. \"We are building on the development of domestic competition started in the indoor season and will be looking to affect the careers of thousands of British athletes,\" said Moorcroft. \"This is an athlete driven programme and identifies a strata of competitors who will provide depth to our club profile.\"\\n'"
      ]
     },
     "execution_count": 34,
     "metadata": {},
     "output_type": "execute_result"
    }
   ],
   "source": [
    "df['classify'][4]"
   ]
  },
  {
   "cell_type": "markdown",
   "metadata": {},
   "source": [
    "...................................................................................................................\n",
    "\n",
    "As you can see, we have lots of punctuation marks and html tags. To get rid of them from the text we will take help of regular expressions. "
   ]
  },
  {
   "cell_type": "code",
   "execution_count": 35,
   "metadata": {},
   "outputs": [],
   "source": [
    "replace_1 = re.compile(\"(\\.)|(\\;)|(\\:)|(\\!)|(\\')|(\\?)|(\\,)|(\\\")|(\\()|(\\))|(\\[)|(\\])\")\n",
    "replace_2 = re.compile(\"(<br\\s*/><br\\s*/>)|(\\-)|(\\/)\")\n",
    "\n",
    "# function to clean text data\n",
    "def clean_classifies(classifies):\n",
    "    classifies = [replace_1.sub(\"\", line.lower()) for line in classifies]\n",
    "    classifies = [replace_2.sub(\" \", line) for line in classifies]\n",
    "    return classifies"
   ]
  },
  {
   "cell_type": "code",
   "execution_count": 36,
   "metadata": {},
   "outputs": [],
   "source": [
    "df['classify'] = clean_classifies(df['classify'])"
   ]
  },
  {
   "cell_type": "markdown",
   "metadata": {},
   "source": [
    "Let's pull out the same classify after the cleaning operation."
   ]
  },
  {
   "cell_type": "code",
   "execution_count": 37,
   "metadata": {},
   "outputs": [
    {
     "data": {
      "text/plain": [
       "'event devised to nurture athletes\\n\\nuk athletics has launched a new outdoor series aimed at creating extra competitive events for athletes just below great britain standard\\n\\nthe uk challenge will consist of 10 high standard meetings from may until the series final on 3 september athletes must compete in at least three events to gain a series ranking with the top eight athletes in each discipline contesting the final the scheme also coincides with plans to introduce a new uk ranking system a list of the top 100 athletes in each event will be compiled and updated every two weeks throughout the outdoor season uk athletics chief executive david moorcroft said he hoped the initiatives would stimulate the sport at all levels we are building on the development of domestic competition started in the indoor season and will be looking to affect the careers of thousands of british athletes said moorcroft this is an athlete driven programme and identifies a strata of competitors who will provide depth to our club profile\\n'"
      ]
     },
     "execution_count": 37,
     "metadata": {},
     "output_type": "execute_result"
    }
   ],
   "source": [
    "df['classify'][4]"
   ]
  },
  {
   "cell_type": "markdown",
   "metadata": {},
   "source": [
    "...................................................................................................................\n",
    "\n",
    "It seems pretty neat and free from unwanted elements. Now let's see which are the top most frequent words in the data."
   ]
  },
  {
   "cell_type": "code",
   "execution_count": 38,
   "metadata": {},
   "outputs": [],
   "source": [
    "from nltk import FreqDist"
   ]
  },
  {
   "cell_type": "code",
   "execution_count": 39,
   "metadata": {},
   "outputs": [],
   "source": [
    "# function to plot top n most frequent words\n",
    "def freq_words(x, terms = 30):\n",
    "  all_words = ' '.join([text for text in x])\n",
    "  all_words = all_words.split()\n",
    "  \n",
    "  fdist = FreqDist(all_words)\n",
    "  words_df = pd.DataFrame({'word':list(fdist.keys()), 'count':list(fdist.values())})\n",
    "  \n",
    "  # selecting top n most frequent words\n",
    "  d = words_df.nlargest(columns=\"count\", n = terms) \n",
    "  plt.figure(figsize=(20,5))\n",
    "  ax = sns.barplot(data=d, x= \"word\", y = \"count\")\n",
    "  ax.set(ylabel = 'Count')\n",
    "  plt.show()"
   ]
  },
  {
   "cell_type": "code",
   "execution_count": 40,
   "metadata": {},
   "outputs": [
    {
     "data": {
      "image/png": "[encoded data removed]",
      "text/plain": [
       "<Figure size 1440x360 with 1 Axes>"
      ]
     },
     "metadata": {
      "needs_background": "light"
     },
     "output_type": "display_data"
    }
   ],
   "source": [
    "freq_words(df['classify'])"
   ]
  },
  {
   "cell_type": "markdown",
   "metadata": {},
   "source": [
    "As it turns out, terms like 'and', 'a', 'is', that' etc. are the most common terms in our data. Most of them are also known as stopwords in the NLP community, and they would be of little help in identifying a classify as athtletics, football...etc. Hence, we will get rid of them as well. \n",
    "\n",
    "We will use __spaCy library__ here to remove the stopwords. But first I am going to download spaCy's language model 'en_core_web_sm'. Use the command below in your terminal to download and install the language model.\n",
    "\n",
    "```python -m spacy download en_core_web_sm```"
   ]
  },
  {
   "cell_type": "code",
   "execution_count": 41,
   "metadata": {},
   "outputs": [],
   "source": [
    "nlp = spacy.load('en_core_web_sm')"
   ]
  },
  {
   "cell_type": "markdown",
   "metadata": {},
   "source": [
    "However, - sometimes -  there are a few stopwords which should not be removed as their absence might change the meaning of an entire sentence. So, for exemple, we won't remove the words 'however', 'no', 'not', and 'but'. We will take them off from spaCy's stopwords vocabulary in the following code block."
   ]
  },
  {
   "cell_type": "code",
   "execution_count": 55,
   "metadata": {},
   "outputs": [],
   "source": [
    "# nlp.vocab['however'].is_stop = False\n",
    "# nlp.vocab['no'].is_stop = False\n",
    "# nlp.vocab['not'].is_stop = False\n",
    "# nlp.vocab['but'].is_stop = False"
   ]
  },
  {
   "cell_type": "markdown",
   "metadata": {},
   "source": [
    "__Tokenization__\n",
    "\n",
    "To remove the stopwords, we will have to first tokenize our classifies. Tokenization means splitting a piece of text into its constituent words. For example, the sentence below will be split into a list of tokens/words after tokenization.\n",
    "\n",
    "__\"The cutting edge of the plot is compromised\" --> ['The', 'cutting', 'edge', 'of', 'the', 'plot', 'is', 'compromised']__\n",
    "\n",
    "We will again use spaCy for tokenizaion. First, the raw text is split on whitespace characters, similar to text.split(' '). Then, the tokenizer processes the text from left to right. On each substring, it performs two checks:\n",
    "\n",
    "* Does the substring match a tokenizer exception rule? For example, \"don't\" does not contain whitespace, but should be split into two tokens, \"do\" and \"n't\", while \"U.K.\" should always remain one token.\n",
    " \n",
    "* Can a prefix, suffix or infix be split off? For example punctuation like commas, periods, hyphens or quotes.\n",
    "\n",
    "If there's a match, the rule is applied and the tokenizer continues its loop, starting with the newly split substrings. This way, spaCy can split complex, nested tokens like combinations of abbreviations and multiple punctuation marks.\n",
    "\n",
    "<img src=\"https://spacy.io/assets/img/tokenization.svg\" align=\"center\"/>\n"
   ]
  },
  {
   "cell_type": "code",
   "execution_count": 56,
   "metadata": {},
   "outputs": [],
   "source": [
    "# tokenization using spaCy\n",
    "def tokenization(x):\n",
    "    classifies_tokens = []\n",
    "    for i in tqdm(x):\n",
    "        i = nlp(i)\n",
    "        temp = []\n",
    "        for j in i:\n",
    "            temp.append(j.text)\n",
    "        classifies_tokens.append(temp)\n",
    "    \n",
    "    return classifies_tokens"
   ]
  },
  {
   "cell_type": "code",
   "execution_count": 50,
   "metadata": {},
   "outputs": [
    {
     "name": "stderr",
     "output_type": "stream",
     "text": [
      "100%|██████████| 738/738 [01:09<00:00, 10.65it/s]\n"
     ]
    }
   ],
   "source": [
    "df['tokenized_classify'] = tokenization(df['classify'])"
   ]
  },
  {
   "cell_type": "code",
   "execution_count": 59,
   "metadata": {},
   "outputs": [],
   "source": [
    "# function to remove stopwords\n",
    "def strip_stopwords(classifies):\n",
    "    s = []\n",
    "    for r in tqdm(classifies):\n",
    "        s_2 = []\n",
    "        for token in r:\n",
    "            if nlp.vocab[token].is_stop == True:\n",
    "                continue\n",
    "            else:\n",
    "                s_2.append(token)\n",
    "        s.append(\" \".join(s_2))    \n",
    "        \n",
    "    return s"
   ]
  },
  {
   "cell_type": "markdown",
   "metadata": {},
   "source": [
    "Let's remove the stopwords."
   ]
  },
  {
   "cell_type": "code",
   "execution_count": 60,
   "metadata": {},
   "outputs": [
    {
     "name": "stderr",
     "output_type": "stream",
     "text": [
      "100%|██████████| 738/738 [00:00<00:00, 1748.04it/s]\n"
     ]
    }
   ],
   "source": [
    "df['classify_cleaned'] = strip_stopwords(df['tokenized_classify'])"
   ]
  },
  {
   "cell_type": "markdown",
   "metadata": {},
   "source": [
    "We will again check the most common terms in the cleaned classify text after eliminating the stopwords."
   ]
  },
  {
   "cell_type": "code",
   "execution_count": 61,
   "metadata": {},
   "outputs": [
    {
     "data": {
      "image/png": "[encoded data removed]",
      "text/plain": [
       "<Figure size 1440x360 with 1 Axes>"
      ]
     },
     "metadata": {
      "needs_background": "light"
     },
     "output_type": "display_data"
    }
   ],
   "source": [
    "freq_words(df['classify_cleaned'])"
   ]
  },
  {
   "cell_type": "markdown",
   "metadata": {},
   "source": [
    "Now we can see more relevant terms have come up. Words such as 'game', 'team', 'play', 'character' as most frequently appearing words make sense. However, we can further clean up the data. Let's get rid of single character terms. "
   ]
  },
  {
   "cell_type": "code",
   "execution_count": 62,
   "metadata": {},
   "outputs": [],
   "source": [
    "# remove 1 character terms (length == 1)\n",
    "df['classify_cleaned'] = df['classify_cleaned'].apply(lambda x: ' '.join([w for w in x.split() if len(w)>1]))"
   ]
  },
  {
   "cell_type": "markdown",
   "metadata": {},
   "source": [
    "One more glance at the top 30 most common words."
   ]
  },
  {
   "cell_type": "code",
   "execution_count": 63,
   "metadata": {},
   "outputs": [
    {
     "data": {
      "image/png": "[encoded data removed]",
      "text/plain": [
       "<Figure size 1440x360 with 1 Axes>"
      ]
     },
     "metadata": {
      "needs_background": "light"
     },
     "output_type": "display_data"
    }
   ],
   "source": [
    "freq_words(df['classify_cleaned'])"
   ]
  },
  {
   "cell_type": "markdown",
   "metadata": {},
   "source": [
    "<br>\n",
    "\n",
    "### Split Data\n",
    "\n",
    "After cleaning and pre-processing of the classifies, we can now split our data into 3 sets — train, validation, and test — in the ratio of 70%, 15% and 15%, respectively. We will use the train set for traing our model, and validation and test sets to make predictions and evaluate our model."
   ]
  },
  {
   "cell_type": "code",
   "execution_count": 64,
   "metadata": {},
   "outputs": [],
   "source": [
    "from sklearn.model_selection import train_test_split"
   ]
  },
  {
   "cell_type": "code",
   "execution_count": 65,
   "metadata": {},
   "outputs": [],
   "source": [
    "# splitting data into train, test, and validation set\n",
    "train, temp = train_test_split(df, stratify = df['class'], test_size=0.3, random_state=42)\n",
    "\n",
    "test, val = train_test_split(temp, stratify = temp['class'], test_size=0.5, random_state=42)"
   ]
  },
  {
   "cell_type": "code",
   "execution_count": 66,
   "metadata": {},
   "outputs": [
    {
     "data": {
      "text/plain": [
       "((516, 4), (111, 4), (111, 4))"
      ]
     },
     "execution_count": 66,
     "metadata": {},
     "output_type": "execute_result"
    }
   ],
   "source": [
    "train.shape, val.shape, test.shape"
   ]
  },
  {
   "cell_type": "markdown",
   "metadata": {},
   "source": [
    "<br>\n",
    "\n",
    "### Extracting Features from Cleaned Text\n",
    "\n",
    "Since we will building a classification model, we can't directly feed text data to our model. We will have to extract numerical features from the cleaned text to build our model. We will create two sets of features:\n",
    "1. Bag-of-Words features\n",
    "2. TF-IDF features"
   ]
  },
  {
   "cell_type": "code",
   "execution_count": 67,
   "metadata": {},
   "outputs": [],
   "source": [
    "from sklearn.feature_extraction.text import CountVectorizer, TfidfVectorizer"
   ]
  },
  {
   "cell_type": "code",
   "execution_count": 68,
   "metadata": {},
   "outputs": [],
   "source": [
    "# build bag-of-words features for train data\n",
    "bow = CountVectorizer(binary=False, min_df=5, max_df=1.0, ngram_range=(1,2))\n",
    "bow_train = bow.fit_transform(train['classify_cleaned'])\n",
    "\n",
    "# build TF-IDF features for train data\n",
    "tfidf = TfidfVectorizer(use_idf=True, min_df=5, max_df=1.0, ngram_range=(1,2),\n",
    "                        sublinear_tf=True)\n",
    "tfidf_train = tfidf.fit_transform(train['classify_cleaned'])"
   ]
  },
  {
   "cell_type": "code",
   "execution_count": 69,
   "metadata": {},
   "outputs": [],
   "source": [
    "# create features for validation and test set\n",
    "bow_val = bow.transform(val['classify_cleaned'])\n",
    "tfidf_val = tfidf.transform(val['classify_cleaned'])\n",
    "\n",
    "bow_test = bow.transform(test['classify_cleaned'])\n",
    "tfidf_test = tfidf.transform(test['classify_cleaned'])"
   ]
  },
  {
   "cell_type": "code",
   "execution_count": 70,
   "metadata": {},
   "outputs": [
    {
     "name": "stdout",
     "output_type": "stream",
     "text": [
      "BOW model:> Train features shape: (516, 3694)  Validation features shape: (111, 3694)  Test features shape: (111, 3694)\n",
      "TFIDF model:> Train features shape: (516, 3694)  Validation features shape: (111, 3694)  Test features shape: (111, 3694)\n"
     ]
    }
   ],
   "source": [
    "print('BOW model:> Train features shape:', bow_train.shape, ' Validation features shape:', bow_val.shape, \n",
    "      ' Test features shape:', bow_test.shape)\n",
    "\n",
    "print('TFIDF model:> Train features shape:', tfidf_train.shape, ' Validation features shape:', tfidf_val.shape,\n",
    "      ' Test features shape:', tfidf_test.shape)"
   ]
  },
  {
   "cell_type": "markdown",
   "metadata": {},
   "source": [
    "<br>\n",
    "\n",
    "### Model Building\n",
    "\n",
    "1) __Logistic Regression__ Model using bag-of-words features"
   ]
  },
  {
   "cell_type": "code",
   "execution_count": 71,
   "metadata": {},
   "outputs": [],
   "source": [
    "# Logistic Regression model\n",
    "from sklearn.linear_model import LogisticRegression"
   ]
  },
  {
   "cell_type": "code",
   "execution_count": 72,
   "metadata": {},
   "outputs": [
    {
     "name": "stderr",
     "output_type": "stream",
     "text": [
      "/anaconda3/lib/python3.7/site-packages/sklearn/linear_model/logistic.py:433: FutureWarning: Default solver will be changed to 'lbfgs' in 0.22. Specify a solver to silence this warning.\n",
      "  FutureWarning)\n",
      "/anaconda3/lib/python3.7/site-packages/sklearn/linear_model/logistic.py:460: FutureWarning: Default multi_class will be changed to 'auto' in 0.22. Specify the multi_class option to silence this warning.\n",
      "  \"this warning.\", FutureWarning)\n"
     ]
    },
    {
     "data": {
      "text/plain": [
       "LogisticRegression(C=1.0, class_weight=None, dual=False, fit_intercept=True,\n",
       "          intercept_scaling=1, max_iter=100, multi_class='warn',\n",
       "          n_jobs=None, penalty='l2', random_state=None, solver='warn',\n",
       "          tol=0.0001, verbose=0, warm_start=False)"
      ]
     },
     "execution_count": 72,
     "metadata": {},
     "output_type": "execute_result"
    }
   ],
   "source": [
    "lr = LogisticRegression()\n",
    "\n",
    "# train model on bag-of-words features\n",
    "lr.fit(bow_train, train['class'])"
   ]
  },
  {
   "cell_type": "code",
   "execution_count": 73,
   "metadata": {},
   "outputs": [],
   "source": [
    "#make predictions on validation set\n",
    "bow_val_preds = lr.predict(bow_val)\n",
    "\n",
    "#make predictions on test set\n",
    "bow_test_preds = lr.predict(bow_test)"
   ]
  },
  {
   "cell_type": "code",
   "execution_count": 74,
   "metadata": {},
   "outputs": [],
   "source": [
    "from sklearn.metrics import accuracy_score"
   ]
  },
  {
   "cell_type": "code",
   "execution_count": 75,
   "metadata": {},
   "outputs": [
    {
     "name": "stdout",
     "output_type": "stream",
     "text": [
      "Validation accuracy score:  0.990990990990991\n",
      "Test accuracy score:  0.9819819819819819\n"
     ]
    }
   ],
   "source": [
    "# model evaluaton\n",
    "print(\"Validation accuracy score: \", accuracy_score(val['class'], bow_val_preds))\n",
    "print(\"Test accuracy score: \", accuracy_score(test['class'], bow_test_preds))"
   ]
  },
  {
   "cell_type": "markdown",
   "metadata": {},
   "source": [
    "2) __Logistic Regression__ Model using TF-IDF features"
   ]
  },
  {
   "cell_type": "code",
   "execution_count": 76,
   "metadata": {},
   "outputs": [
    {
     "data": {
      "text/plain": [
       "LogisticRegression(C=1.0, class_weight=None, dual=False, fit_intercept=True,\n",
       "          intercept_scaling=1, max_iter=100, multi_class='warn',\n",
       "          n_jobs=None, penalty='l2', random_state=None, solver='warn',\n",
       "          tol=0.0001, verbose=0, warm_start=False)"
      ]
     },
     "execution_count": 76,
     "metadata": {},
     "output_type": "execute_result"
    }
   ],
   "source": [
    "# train model on bag-of-words features\n",
    "lr.fit(tfidf_train, train['class'])"
   ]
  },
  {
   "cell_type": "code",
   "execution_count": 77,
   "metadata": {},
   "outputs": [],
   "source": [
    "#make predictions on validation set\n",
    "tfidf_val_preds = lr.predict(tfidf_val)\n",
    "\n",
    "#make predictions on test set\n",
    "tfidf_test_preds = lr.predict(tfidf_test)"
   ]
  },
  {
   "cell_type": "code",
   "execution_count": 78,
   "metadata": {},
   "outputs": [
    {
     "name": "stdout",
     "output_type": "stream",
     "text": [
      "Validation accuracy score:  0.954954954954955\n",
      "Test accuracy score:  0.963963963963964\n"
     ]
    }
   ],
   "source": [
    "# model evaluaton\n",
    "print(\"Validation accuracy score: \", accuracy_score(val['class'], tfidf_val_preds))\n",
    "print(\"Test accuracy score: \", accuracy_score(test['class'], tfidf_test_preds))"
   ]
  },
  {
   "cell_type": "markdown",
   "metadata": {},
   "source": [
    "<br>\n",
    "\n",
    "### Livrable\n",
    "1. Identifier l’approche à utiliser. Est-ce que l’on est dans un cas de classification? Expliquer.\n",
    "2. Exploration des données :\n",
    "3. Déterminer les statistiques que vous pensez être intéressantes pour ce projet.\n",
    "4. Préparation des données :\n",
    "5. Identifier les features/prédicteurs et la colonne cible\n",
    "6. Effectuer un ou des prétraitements sur les colonnes feature\n",
    "7. Partager les données en training et test\n",
    "8. Modèle d’apprentissage et test évaluation\n",
    "9. Choisir les modèles d’apprentissage supervisé qui sont appropriés pour ce problème. On pourra utiliser scikit-learn pour l’implémentation.\n",
    "10. Indiquer la nature du modèle proposé en termes des avantages et des inconvénients\n",
    "11. Quelles sont les critères qui ont fait que vous avez choisi cette approche? Est-ce que c’est basé sur la nature des données que vous avez reçu?\n",
    "12. Pour chaque modèle, donner une table qui montre le temps nécessaire pour l’apprentissage, temps pour faire la prédiction, le score F1 sur le set training, le score F1 sur le test set.\n",
    "13. Choix du meilleur modèle : indiquer lequel serait le meilleur modèle pour les données que vous avez reçu. Indiquer vos critères tel que : données disponibles, ressources de calcul, cout, performance\n",
    "\n",
    "\n",
    "### Challenges :\n",
    "\n",
    "Le premier problème à résoudre est de trouver les X features à utiliser pour la prédiction des classes. Dans notre cas, on recoit des fichiers au lieu d’enregistrements.\n",
    "Quelques approches à évaluer pour transformer le texte dans un document en un espace de features : \n",
    "\n",
    "1. Word Count Vectors\n",
    "2. TF–IDF Vectors\n",
    "3. Word Embeddings\n",
    "4. Text based or NLP based features\n",
    "5. Latent Dirichlet Allocation\n",
    "6. BERT\n",
    "\n",
    "\n",
    "#### Important : \n",
    "\n",
    "Aucune approche d’apprentissage ne sera considérée pour ce projet.\n",
    "\n",
    "### Plus:\n",
    "1. Score F1 \n",
    "2. Use text normalization (stemming or lemmatization) to convert different forms of each word into one.\n",
    "3. Use word embeddings such as word2vec, GLoVe, fasttext to create features.\n",
    "4. Try different machine learning algorithms like SVM, random forest, XGBoost, LightGBM.\n",
    "5. Ressource de calcul"
   ]
  },
  {
   "cell_type": "markdown",
   "metadata": {},
   "source": []
  }
 ],
 "metadata": {
  "kernelspec": {
   "display_name": "Python 3",
   "language": "python",
   "name": "python3"
  },
  "language_info": {
   "codemirror_mode": {
    "name": "ipython",
    "version": 3
   },
   "file_extension": ".py",
   "mimetype": "text/x-python",
   "name": "python",
   "nbconvert_exporter": "python",
   "pygments_lexer": "ipython3",
   "version": "3.7.1"
  }
 },
 "nbformat": 4,
 "nbformat_minor": 2
}
